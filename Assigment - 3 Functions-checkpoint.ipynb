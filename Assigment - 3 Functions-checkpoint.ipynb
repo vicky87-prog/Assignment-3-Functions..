{
 "cells": [
  {
   "cell_type": "code",
   "execution_count": 1,
   "id": "8ec45597-84cc-4f47-8c43-49b1208cd857",
   "metadata": {},
   "outputs": [
    {
     "name": "stdout",
     "output_type": "stream",
     "text": [
      "Hello, Alice!\n"
     ]
    }
   ],
   "source": [
    "# Q1) What is the difference between a function and a method in Python?\n",
    "# Ans1) In Python, functions and methods are both blocks of reusable code, but they differ in their context and usage.\n",
    "#       Function - A function is a standalone block of code defined using the def keyword. It is not tied to any specific object and can be called or used independently. Functions are used to perform a specific task and can take arguments and return values.\n",
    "#       Method - A method is a function that is associated with an object (usually part of a class).It operates on the data (attributes) of the object it is called on. Methods are typically used to define behaviors of an object and often require the self parameter to access the object's attributes.\n",
    "\n",
    "def greet(name):\n",
    "    return f\"Hello, {name}!\"\n",
    "    \n",
    "print(greet(\"Alice\"))"
   ]
  },
  {
   "cell_type": "code",
   "execution_count": 2,
   "id": "8485ce2f-cd79-4458-927f-22de05b7fccd",
   "metadata": {},
   "outputs": [
    {
     "name": "stdout",
     "output_type": "stream",
     "text": [
      "Hello, Alice!\n"
     ]
    }
   ],
   "source": [
    "class Greeter:\n",
    "    def __init__(self, name):\n",
    "        self.name = name\n",
    "\n",
    "    def greet(self):\n",
    "        return f\"Hello, {self.name}!\"\n",
    "\n",
    "greeter = Greeter(\"Alice\")\n",
    "print(greeter.greet())"
   ]
  },
  {
   "cell_type": "code",
   "execution_count": null,
   "id": "5d0458cb-522a-44ac-b555-156840fd0a35",
   "metadata": {},
   "outputs": [],
   "source": [
    "# Q2) Explain the concept of function arguments and parameters in Python.\n",
    "# Ans2) Parameters: These are the placeholders or variables defined in the function's definition. They act as \"input slots\" for the function, allowing it to accept data when called.\n",
    "#       Arguments: These are the actual values or data you pass to the function when calling it. They \"fill in\" the parameters defined in the function."
   ]
  },
  {
   "cell_type": "code",
   "execution_count": 3,
   "id": "905ca1a6-526f-4361-8daf-5a886fa25cba",
   "metadata": {},
   "outputs": [
    {
     "name": "stdout",
     "output_type": "stream",
     "text": [
      "Hello, Alice!\n"
     ]
    }
   ],
   "source": [
    "def greet(name):  # 'name' is the parameter\n",
    "    print(f\"Hello, {name}!\")\n",
    "greet(\"Alice\")  # \"Alice\" is the argument"
   ]
  },
  {
   "cell_type": "code",
   "execution_count": null,
   "id": "7e60359e-0fcd-4b78-b84f-bd63a02fb6ec",
   "metadata": {},
   "outputs": [],
   "source": [
    "# Q3)  What are the different ways to define and call a function in Python?\n",
    "# Ans3) In Python, functions can be defined and called in various ways depending on the use case.\n",
    "#       Standard Function Definition and Call>> Definition: Use the def keyword to define a function. Call: Use the function name followed by parentheses.\n",
    "#       Lambda (Anonymous) Functions>> Definition: Use the lambda keyword for short, single-expression functions. Call: Assign it to a variable or use it directly.\n",
    "#       Function with Default Arguments>> Definition: Provide default values for parameters.Call: Call with or without overriding defaults.\n",
    "#       Function with Variable-Length Arguments>> Definition: Use *args for positional arguments and **kwargs for keyword arguments.Call: Pass multiple arguments dynamically.\n",
    "#       Nested Functions>> Definition: Define a function inside another function.Call the inner function within the outer function.\n",
    "#       Recursive Functions>> Definition: A function that calls itself.Call: Ensure a base case to avoid infinite recursion.\n",
    "#       Class Methods>> Definition: Define a function inside a class using @staticmethod or @classmethod.Call: Call via the class or an instance."
   ]
  },
  {
   "cell_type": "code",
   "execution_count": 4,
   "id": "10b57eb6-d7eb-4cb6-a4d0-6dd3a4cc2b16",
   "metadata": {},
   "outputs": [
    {
     "name": "stdout",
     "output_type": "stream",
     "text": [
      "Hello, Alice!\n"
     ]
    }
   ],
   "source": [
    "# Standard Function\n",
    "\n",
    "# Define\n",
    "def greet(name):\n",
    "    return f\"Hello, {name}!\"\n",
    "\n",
    "# Call\n",
    "print(greet(\"Alice\"))"
   ]
  },
  {
   "cell_type": "code",
   "execution_count": 6,
   "id": "48d80d90-dd5d-4b37-aa9d-ec05830771c1",
   "metadata": {},
   "outputs": [
    {
     "name": "stdout",
     "output_type": "stream",
     "text": [
      "25\n"
     ]
    }
   ],
   "source": [
    "# Lambda (Anonymous) Functions\n",
    "\n",
    "# Define\n",
    "square = lambda x: x ** 2\n",
    "\n",
    "# Call\n",
    "print(square(5))"
   ]
  },
  {
   "cell_type": "code",
   "execution_count": 7,
   "id": "5094b3ec-8d5c-4a1f-a18c-a7b8d3463bcc",
   "metadata": {},
   "outputs": [
    {
     "name": "stdout",
     "output_type": "stream",
     "text": [
      "10\n"
     ]
    }
   ],
   "source": [
    "# Direct call\n",
    "print((lambda x, y: x + y)(3, 7))"
   ]
  },
  {
   "cell_type": "code",
   "execution_count": 8,
   "id": "c2907b16-dca9-4b6c-98c2-509efd700136",
   "metadata": {},
   "outputs": [
    {
     "name": "stdout",
     "output_type": "stream",
     "text": [
      "Welcome, Guest!\n"
     ]
    }
   ],
   "source": [
    "# Function with Default Arguments\n",
    "\n",
    "# Define\n",
    "def greet(name=\"Guest\"):\n",
    "    return f\"Welcome, {name}!\"\n",
    "\n",
    "# Call\n",
    "print(greet())"
   ]
  },
  {
   "cell_type": "code",
   "execution_count": 9,
   "id": "af057e8e-eb72-4631-abd8-c4188a63d3ba",
   "metadata": {},
   "outputs": [
    {
     "name": "stdout",
     "output_type": "stream",
     "text": [
      "Welcome, Alice!\n"
     ]
    }
   ],
   "source": [
    "print(greet(\"Alice\"))"
   ]
  },
  {
   "cell_type": "code",
   "execution_count": 10,
   "id": "0b4251f8-ebe9-492c-986b-9256fbba5d9c",
   "metadata": {},
   "outputs": [
    {
     "name": "stdout",
     "output_type": "stream",
     "text": [
      "Args: (1, 2, 3), Kwargs: {'a': 4, 'b': 5}\n"
     ]
    }
   ],
   "source": [
    "# Function with Variable-Length Arguments\n",
    "\n",
    "# Define\n",
    "def summarize(*args, **kwargs):\n",
    "    return f\"Args: {args}, Kwargs: {kwargs}\"\n",
    "\n",
    "# Call\n",
    "print(summarize(1, 2, 3, a=4, b=5))  # Output: Args: (1, 2, 3), Kwargs: {'a': 4, 'b': 5}"
   ]
  },
  {
   "cell_type": "code",
   "execution_count": 11,
   "id": "a56738dd-8a5b-4c65-b1bc-aa37dfd1506a",
   "metadata": {},
   "outputs": [
    {
     "name": "stdout",
     "output_type": "stream",
     "text": [
      "15\n"
     ]
    }
   ],
   "source": [
    "# Nested Functions\n",
    "\n",
    "# Define\n",
    "def outer_function(x):\n",
    "    def inner_function(y):\n",
    "        return x + y\n",
    "    return inner_function(5)\n",
    "\n",
    "# Call\n",
    "print(outer_function(10))"
   ]
  },
  {
   "cell_type": "code",
   "execution_count": 12,
   "id": "0fcc29ce-dd85-413c-bbff-b66fc650ae0f",
   "metadata": {},
   "outputs": [
    {
     "name": "stdout",
     "output_type": "stream",
     "text": [
      "120\n"
     ]
    }
   ],
   "source": [
    "# Define\n",
    "def factorial(n):\n",
    "    if n == 0:\n",
    "        return 1\n",
    "    return n * factorial(n - 1)\n",
    "\n",
    "# Call\n",
    "print(factorial(5))"
   ]
  },
  {
   "cell_type": "code",
   "execution_count": 13,
   "id": "fa387672-a645-4f57-936f-6eedea90d55e",
   "metadata": {},
   "outputs": [
    {
     "name": "stdout",
     "output_type": "stream",
     "text": [
      "10\n"
     ]
    }
   ],
   "source": [
    "class Math:\n",
    "    @staticmethod\n",
    "    def add(a, b):\n",
    "        return a + b\n",
    "\n",
    "# Call\n",
    "print(Math.add(3, 7))"
   ]
  },
  {
   "cell_type": "code",
   "execution_count": 18,
   "id": "00ccaeb0-1201-4712-9b28-b52970bc908d",
   "metadata": {},
   "outputs": [
    {
     "name": "stdout",
     "output_type": "stream",
     "text": [
      "8\n"
     ]
    }
   ],
   "source": [
    "# Q4) What is the purpose of the `return` statement in a Python function?\n",
    "# Ans4) Send a Value Back to the Caller - It allows a function to send a result or value back to the part of the program that called it.\n",
    "\n",
    "def add(a, b):\n",
    "    return a + b\n",
    "result = add(3, 5)\n",
    "print(result)"
   ]
  },
  {
   "cell_type": "code",
   "execution_count": 19,
   "id": "8d579a40-5d76-437a-b323-4e56ff6e6302",
   "metadata": {},
   "outputs": [
    {
     "name": "stdout",
     "output_type": "stream",
     "text": [
      "Positive\n"
     ]
    }
   ],
   "source": [
    "# End Function Execution: When a return statement is executed, the function terminates immediately, even if there are more lines of code after it.\n",
    "\n",
    "def check_number(num):\n",
    "    if num > 0:\n",
    "        return \"Positive\"\n",
    "    return \"Non-positive\"\n",
    "\n",
    "print(check_number(5))"
   ]
  },
  {
   "cell_type": "code",
   "execution_count": 27,
   "id": "a543e8e3-dc41-4f16-ab3f-9261b56206fd",
   "metadata": {},
   "outputs": [
    {
     "name": "stdout",
     "output_type": "stream",
     "text": [
      "10\n",
      "20\n"
     ]
    }
   ],
   "source": [
    "# Return Multiple Values: Python allows returning multiple values as a tuple, making it easy to return complex results.\n",
    "\n",
    "def get_coordinates():\n",
    "    return 10, 20\n",
    "\n",
    "x, y = get_coordinates()\n",
    "print(x)\n",
    "print(y)"
   ]
  },
  {
   "cell_type": "code",
   "execution_count": 30,
   "id": "b010e78a-fc45-490f-af4c-23503ddf5456",
   "metadata": {},
   "outputs": [
    {
     "name": "stdout",
     "output_type": "stream",
     "text": [
      "1\n",
      "2\n",
      "3\n"
     ]
    }
   ],
   "source": [
    "# Q5) What are iterators in Python and how do they differ from iterables?\n",
    "# Ans5) iterators and iterables are closely related concepts but have distinct roles in the context of iteration.\n",
    "#       Iterables >> An iterable is any object that can return an iterator. It is essentially a collection of items (like a list, tuple, string, or dictionary) that can be iterated over using a loop (e.g., for loop).\n",
    "#                    An iterable must implement the __iter__() method, which returns an iterator object.\n",
    "#       Example >>> my_list = [1, 2, 3], my_string = \"Hello\", my_tuple = (4, 5, 6)\n",
    "\n",
    "#       Iterators >>> An iterator is an object that represents a stream of data. It is used to iterate over an iterable, one element at a time.\n",
    "#                     An iterator must implement two methods: __iter__() - Returns the iterator object itself.\n",
    "#                     __next__() - Returns the next item in the sequence. If there are no more items, it raises a StopIteration exception.\n",
    "#                     Iterators are stateful, meaning they keep track of where they are in the iteration process.\n",
    "\n",
    "# Iterable: Think of it as a \"collection\" you can loop through.\n",
    "# Iterator: Think of it as the \"mechanism\" that enables looping, one item at a time.\n",
    "\n",
    "my_list = [1, 2, 3]  # A list is an iterable\n",
    "iterator = iter(my_list)  # Get an iterator from the iterable\n",
    "print(next(iterator))\n",
    "print(next(iterator))\n",
    "print(next(iterator))"
   ]
  },
  {
   "cell_type": "code",
   "execution_count": 35,
   "id": "ea591f11-a48b-491d-9bbb-3f5f3b8c4be2",
   "metadata": {},
   "outputs": [
    {
     "name": "stdout",
     "output_type": "stream",
     "text": [
      "1\n",
      "2\n",
      "3\n"
     ]
    }
   ],
   "source": [
    "# Q6) Explain the concept of generators in Python and how they are defined.\n",
    "# Ans6) Generators in Python are a special type of function that return an iterator using the yield keyword. \n",
    "#       They allow you to iterate through a sequence of values over time, instead of computing and returning a single result. \n",
    "#       This makes them particularly useful for working with large datasets or streams of data without consuming a lot of memory.\n",
    "\n",
    "#       A generator function is defined like a normal function, but instead of using the return statement, it uses the yield statement. \n",
    "#       When the generator function is called, it does not execute the function body immediately. \n",
    "#       Instead, it returns a generator object that can be iterated over to produce the values.\n",
    "\n",
    "def simple_generator():\n",
    "    yield 1\n",
    "    yield 2\n",
    "    yield 3\n",
    "\n",
    "# Using the generator function\n",
    "for value in simple_generator():\n",
    "    print(value)"
   ]
  },
  {
   "cell_type": "code",
   "execution_count": 3,
   "id": "83b67baf-26a2-463c-a777-b79cc66d78cc",
   "metadata": {},
   "outputs": [
    {
     "name": "stdout",
     "output_type": "stream",
     "text": [
      "1\n",
      "2\n",
      "3\n",
      "4\n",
      "5\n"
     ]
    }
   ],
   "source": [
    "# Q7) What are the advantages of using generators over regular functions?\n",
    "# Ans7) Advantages of Generator Function are>>>\n",
    "#       A generator function has one or more yield functions, whereas a normal function has only one function.\n",
    "#      The states of local variables are retained between calls.\n",
    "#      Once the generator function stops, the StopIteration is called automatically.\n",
    "#      When a generator function is called, the normal function halts the execution and the call is transferred to the generator function.\n",
    "\n",
    "def count_up_to(max):\n",
    "    count = 1\n",
    "    while count <= max:\n",
    "        yield count\n",
    "        count += 1\n",
    "\n",
    "# Using the generator\n",
    "counter = count_up_to(5)\n",
    "\n",
    "for num in counter:\n",
    "    print(num)"
   ]
  },
  {
   "cell_type": "code",
   "execution_count": 1,
   "id": "9d5970eb-d179-4aa8-ad16-b03431266782",
   "metadata": {},
   "outputs": [
    {
     "name": "stdout",
     "output_type": "stream",
     "text": [
      "15\n"
     ]
    }
   ],
   "source": [
    "# Q8) What is a lambda function in Python and when is it typically used?\n",
    "# Ans8) A lambda function in Python is a small anonymous function defined using the lambda keyword. \n",
    "#       It can take any number of arguments but has only one expression, which is evaluated and returned.\n",
    "#       lambda arguments: expression\n",
    "\n",
    "#       Lambda functions are most commonly used when you need a short, throwaway function and defining a full function with def would be overkill.\n",
    "\n",
    "add_ten = lambda x: x + 10\n",
    "print(add_ten(5))"
   ]
  },
  {
   "cell_type": "code",
   "execution_count": 2,
   "id": "24a38a7b-a46d-4e4e-9bd0-45276efba975",
   "metadata": {},
   "outputs": [
    {
     "name": "stdout",
     "output_type": "stream",
     "text": [
      "[1, 4, 9, 16]\n"
     ]
    }
   ],
   "source": [
    "# Q9) Explain the purpose and usage of the `map()` function in Python.\n",
    "# Ans9) The map() function in Python is used to apply a function to every item in an iterable (like a list or tuple) and return \n",
    "#       a new iterator with the results.\n",
    "#       Purpose of map():\n",
    "#       To transform data by applying a function to each element of a sequence.\n",
    "#       It's useful when you want to avoid writing a loop just to modify or compute values from an iterable.\n",
    "\n",
    "#       map(function, iterable) : function: A function to apply to each element (often a lambda or predefined function).\n",
    "#                                 iterable: An iterable like a list, tuple, etc.\n",
    "\n",
    "numbers = [1, 2, 3, 4]\n",
    "squared = map(lambda x: x**2, numbers)\n",
    "\n",
    "print(list(squared))"
   ]
  },
  {
   "cell_type": "code",
   "execution_count": null,
   "id": "e10d6221-89ab-483e-b2f9-7a33508676e1",
   "metadata": {},
   "outputs": [],
   "source": [
    "# Q10) What is the difference between `map()`, `reduce()`, and `filter()` functions in Python?\n",
    "# Ans10) map(), reduce(), and filter() are functional programming tools in Python that let you process data in a clean and expressive way.\n",
    "\n",
    "#        1. map()Purpose: Applies a function to each item in an iterable and returns a new iterable with the results.\n",
    "#           map(function, iterable)\n",
    "\n",
    "#        2. filter()Purpose: Filters items in an iterable by applying a function that returns True or False, keeping only those that return True.\n",
    "#           filter(function, iterable)\n",
    "\n",
    "#        3. reduce() (from functools module) Purpose: Applies a function of two arguments cumulatively to the items of an iterable, reducing it to a single value.\n",
    "#           from functools import reduce\n",
    "#           reduce(function, iterable)\n",
    "\n",
    "#        Function\t        Purpose\t                Returns\t          Function Type\n",
    "#        map()\t     Transforms each item,\tTransformed iterable,\tOne-to-one mapping,\n",
    "#       filter()     Selects items based on a condition,\tFiltered iterable,\tOne-to-zero/one (conditional)\n",
    "#       reduce()\t Combines items to a single value,\tSingle value,\tMany-to-one (aggregation)"
   ]
  },
  {
   "cell_type": "code",
   "execution_count": null,
   "id": "baae7167-417e-40cc-94f3-dd8168e93f2a",
   "metadata": {},
   "outputs": [],
   "source": [
    "# Q11) Using pen & Paper write the internal mechanism for sum operation using reduce function on this given\n",
    "list:[47,11,42,13];\n",
    "# Ans11) "
   ]
  },
  {
   "cell_type": "code",
   "execution_count": 4,
   "id": "c57d8329-c615-4da2-ac4b-7d31e2fa8d3b",
   "metadata": {},
   "outputs": [
    {
     "name": "stdout",
     "output_type": "stream",
     "text": [
      "Sum of even numbers: 12\n"
     ]
    }
   ],
   "source": [
    "#  Practical Questions:\n",
    "\n",
    "# Q1)  Write a Python function that takes a list of numbers as input and returns the sum of all even numbers in the list.\n",
    "\n",
    "def sum_of_even_numbers(numbers):\n",
    "    return sum(num for num in numbers if num % 2 == 0)\n",
    "\n",
    "nums = [1, 2, 3, 4, 5, 6]\n",
    "result = sum_of_even_numbers(nums)\n",
    "print(\"Sum of even numbers:\", result)"
   ]
  },
  {
   "cell_type": "code",
   "execution_count": 5,
   "id": "77fee037-065f-466b-8879-a398bd0337bd",
   "metadata": {},
   "outputs": [
    {
     "name": "stdout",
     "output_type": "stream",
     "text": [
      "Reversed string: olleh\n"
     ]
    }
   ],
   "source": [
    "# Q2) Create a Python function that accepts a string and returns the reverse of that string.\n",
    "\n",
    "def reverse_string(s):\n",
    "    return s[::-1]\n",
    "\n",
    "text = \"hello\"\n",
    "reversed_text = reverse_string(text)\n",
    "print(\"Reversed string:\", reversed_text)"
   ]
  },
  {
   "cell_type": "code",
   "execution_count": 6,
   "id": "3e609c36-1a80-4b6e-8575-b6d0c61bc935",
   "metadata": {},
   "outputs": [
    {
     "name": "stdout",
     "output_type": "stream",
     "text": [
      "Squared numbers: [1, 4, 9, 16, 25]\n"
     ]
    }
   ],
   "source": [
    "# Q3) Implement a Python function that takes a list of integers and returns a new list containing the squares of each number.\n",
    "\n",
    "def square_numbers(numbers):\n",
    "    return [x ** 2 for x in numbers]\n",
    "\n",
    "nums = [1, 2, 3, 4, 5]\n",
    "squared = square_numbers(nums)\n",
    "print(\"Squared numbers:\", squared)"
   ]
  },
  {
   "cell_type": "code",
   "execution_count": 9,
   "id": "8fb35da8-d5bd-4816-85a9-df58322cda14",
   "metadata": {},
   "outputs": [
    {
     "name": "stdout",
     "output_type": "stream",
     "text": [
      "2 is prime\n",
      "11 is prime\n",
      "13 is prime\n",
      "17 is prime\n",
      "19 is prime\n",
      "23 is prime\n",
      "25 is prime\n",
      "29 is prime\n",
      "31 is prime\n",
      "35 is prime\n",
      "37 is prime\n",
      "41 is prime\n",
      "43 is prime\n",
      "47 is prime\n",
      "49 is prime\n",
      "53 is prime\n",
      "55 is prime\n",
      "59 is prime\n",
      "61 is prime\n",
      "65 is prime\n",
      "67 is prime\n",
      "71 is prime\n",
      "73 is prime\n",
      "77 is prime\n",
      "79 is prime\n",
      "83 is prime\n",
      "85 is prime\n",
      "89 is prime\n",
      "91 is prime\n",
      "95 is prime\n",
      "97 is prime\n",
      "101 is prime\n",
      "103 is prime\n",
      "107 is prime\n",
      "109 is prime\n",
      "113 is prime\n",
      "115 is prime\n",
      "119 is prime\n",
      "121 is prime\n",
      "125 is prime\n",
      "127 is prime\n",
      "131 is prime\n",
      "133 is prime\n",
      "137 is prime\n",
      "139 is prime\n",
      "143 is prime\n",
      "145 is prime\n",
      "149 is prime\n",
      "151 is prime\n",
      "155 is prime\n",
      "157 is prime\n",
      "161 is prime\n",
      "163 is prime\n",
      "167 is prime\n",
      "169 is prime\n",
      "173 is prime\n",
      "175 is prime\n",
      "179 is prime\n",
      "181 is prime\n",
      "185 is prime\n",
      "187 is prime\n",
      "191 is prime\n",
      "193 is prime\n",
      "197 is prime\n",
      "199 is prime\n"
     ]
    }
   ],
   "source": [
    "# Q4) Write a Python function that checks if a given number is prime or not from 1 to 200.\n",
    "\n",
    "def is_prime(n):\n",
    "    if n <= 1:\n",
    "        return False\n",
    "    if n == 2:\n",
    "        return True\n",
    "    if n % 2 == 0:\n",
    "        return False\n",
    "\n",
    "    for i in range(3, int(n**0.5) + 1, 2):\n",
    "        if n % i == 0:\n",
    "            return False\n",
    "        return True\n",
    "    \n",
    "for num in range(1, 201):\n",
    "    if is_prime(num):\n",
    "        print(num, \"is prime\")"
   ]
  },
  {
   "cell_type": "code",
   "execution_count": 10,
   "id": "59c688e6-200c-4b14-9d9a-4d5e92fde592",
   "metadata": {},
   "outputs": [
    {
     "name": "stdout",
     "output_type": "stream",
     "text": [
      "0 1 1 1 2 3 5 8 13 21 "
     ]
    }
   ],
   "source": [
    "# Q5) Create an iterator class in Python that generates the Fibonacci sequence up to a specified number of terms.\n",
    "\n",
    "class FibonacciIterator:\n",
    "    def __init__(self, max_terms):\n",
    "        self.max_terms = max_terms\n",
    "        self.count = 0\n",
    "        self.a, self.b = 0, 1\n",
    "\n",
    "    def __iter__(self):\n",
    "        return self\n",
    "\n",
    "    def __next__(self):\n",
    "        if self.count >= self.max_terms:\n",
    "            raise StopIteration\n",
    "        if self.count == 0:\n",
    "            self.count += 1\n",
    "            return 0\n",
    "        elif self.count == 1:\n",
    "            self.count += 1\n",
    "            return 1\n",
    "        else:\n",
    "            self.a, self.b = self.b, self.a + self.b\n",
    "            self.count += 1\n",
    "            return self.a\n",
    "            \n",
    "fib = FibonacciIterator(10)\n",
    "for num in fib:\n",
    "    print(num, end=\" \")"
   ]
  },
  {
   "cell_type": "code",
   "execution_count": 11,
   "id": "eaa03836-b2cb-4455-bc8d-f53b08e1400b",
   "metadata": {},
   "outputs": [
    {
     "name": "stdout",
     "output_type": "stream",
     "text": [
      "1\n",
      "2\n",
      "4\n",
      "8\n",
      "16\n",
      "32\n"
     ]
    }
   ],
   "source": [
    "# Q6) Write a generator function in Python that yields the powers of 2 up to a given exponent.\n",
    "\n",
    "def powers_of_two(max_exponent):\n",
    "    for i in range(max_exponent + 1):\n",
    "        yield 2 ** i\n",
    "\n",
    "for power in powers_of_two(5):\n",
    "    print(power)"
   ]
  },
  {
   "cell_type": "code",
   "execution_count": 12,
   "id": "58394fe1-15d0-4032-b8ef-581f580ef5b5",
   "metadata": {},
   "outputs": [
    {
     "ename": "FileNotFoundError",
     "evalue": "[Errno 2] No such file or directory: 'example.txt'",
     "output_type": "error",
     "traceback": [
      "\u001b[31m---------------------------------------------------------------------------\u001b[39m",
      "\u001b[31mFileNotFoundError\u001b[39m                         Traceback (most recent call last)",
      "\u001b[36mCell\u001b[39m\u001b[36m \u001b[39m\u001b[32mIn[12]\u001b[39m\u001b[32m, line 10\u001b[39m\n\u001b[32m      6\u001b[39m             \u001b[38;5;28;01myield\u001b[39;00m line.rstrip(\u001b[33m'\u001b[39m\u001b[38;5;130;01m\\n\u001b[39;00m\u001b[33m'\u001b[39m)\n\u001b[32m      8\u001b[39m file_path = \u001b[33m'\u001b[39m\u001b[33mexample.txt\u001b[39m\u001b[33m'\u001b[39m\n\u001b[32m---> \u001b[39m\u001b[32m10\u001b[39m \u001b[38;5;28;43;01mfor\u001b[39;49;00m\u001b[43m \u001b[49m\u001b[43mline\u001b[49m\u001b[43m \u001b[49m\u001b[38;5;129;43;01min\u001b[39;49;00m\u001b[43m \u001b[49m\u001b[43mread_file_line_by_line\u001b[49m\u001b[43m(\u001b[49m\u001b[43mfile_path\u001b[49m\u001b[43m)\u001b[49m\u001b[43m:\u001b[49m\n\u001b[32m     11\u001b[39m \u001b[43m    \u001b[49m\u001b[38;5;28;43mprint\u001b[39;49m\u001b[43m(\u001b[49m\u001b[43mline\u001b[49m\u001b[43m)\u001b[49m\n",
      "\u001b[36mCell\u001b[39m\u001b[36m \u001b[39m\u001b[32mIn[12]\u001b[39m\u001b[32m, line 4\u001b[39m, in \u001b[36mread_file_line_by_line\u001b[39m\u001b[34m(file_path)\u001b[39m\n\u001b[32m      3\u001b[39m \u001b[38;5;28;01mdef\u001b[39;00m\u001b[38;5;250m \u001b[39m\u001b[34mread_file_line_by_line\u001b[39m(file_path):\n\u001b[32m----> \u001b[39m\u001b[32m4\u001b[39m     \u001b[38;5;28;01mwith\u001b[39;00m \u001b[38;5;28;43mopen\u001b[39;49m\u001b[43m(\u001b[49m\u001b[43mfile_path\u001b[49m\u001b[43m,\u001b[49m\u001b[43m \u001b[49m\u001b[33;43m'\u001b[39;49m\u001b[33;43mr\u001b[39;49m\u001b[33;43m'\u001b[39;49m\u001b[43m)\u001b[49m \u001b[38;5;28;01mas\u001b[39;00m file:\n\u001b[32m      5\u001b[39m         \u001b[38;5;28;01mfor\u001b[39;00m line \u001b[38;5;129;01min\u001b[39;00m file:\n\u001b[32m      6\u001b[39m             \u001b[38;5;28;01myield\u001b[39;00m line.rstrip(\u001b[33m'\u001b[39m\u001b[38;5;130;01m\\n\u001b[39;00m\u001b[33m'\u001b[39m)\n",
      "\u001b[36mFile \u001b[39m\u001b[32m~\\AppData\\Local\\Programs\\Python\\Python313\\Lib\\site-packages\\IPython\\core\\interactiveshell.py:326\u001b[39m, in \u001b[36m_modified_open\u001b[39m\u001b[34m(file, *args, **kwargs)\u001b[39m\n\u001b[32m    319\u001b[39m \u001b[38;5;28;01mif\u001b[39;00m file \u001b[38;5;129;01min\u001b[39;00m {\u001b[32m0\u001b[39m, \u001b[32m1\u001b[39m, \u001b[32m2\u001b[39m}:\n\u001b[32m    320\u001b[39m     \u001b[38;5;28;01mraise\u001b[39;00m \u001b[38;5;167;01mValueError\u001b[39;00m(\n\u001b[32m    321\u001b[39m         \u001b[33mf\u001b[39m\u001b[33m\"\u001b[39m\u001b[33mIPython won\u001b[39m\u001b[33m'\u001b[39m\u001b[33mt let you open fd=\u001b[39m\u001b[38;5;132;01m{\u001b[39;00mfile\u001b[38;5;132;01m}\u001b[39;00m\u001b[33m by default \u001b[39m\u001b[33m\"\u001b[39m\n\u001b[32m    322\u001b[39m         \u001b[33m\"\u001b[39m\u001b[33mas it is likely to crash IPython. If you know what you are doing, \u001b[39m\u001b[33m\"\u001b[39m\n\u001b[32m    323\u001b[39m         \u001b[33m\"\u001b[39m\u001b[33myou can use builtins\u001b[39m\u001b[33m'\u001b[39m\u001b[33m open.\u001b[39m\u001b[33m\"\u001b[39m\n\u001b[32m    324\u001b[39m     )\n\u001b[32m--> \u001b[39m\u001b[32m326\u001b[39m \u001b[38;5;28;01mreturn\u001b[39;00m \u001b[43mio_open\u001b[49m\u001b[43m(\u001b[49m\u001b[43mfile\u001b[49m\u001b[43m,\u001b[49m\u001b[43m \u001b[49m\u001b[43m*\u001b[49m\u001b[43margs\u001b[49m\u001b[43m,\u001b[49m\u001b[43m \u001b[49m\u001b[43m*\u001b[49m\u001b[43m*\u001b[49m\u001b[43mkwargs\u001b[49m\u001b[43m)\u001b[49m\n",
      "\u001b[31mFileNotFoundError\u001b[39m: [Errno 2] No such file or directory: 'example.txt'"
     ]
    }
   ],
   "source": [
    "# Q7) Implement a generator function that reads a file line by line and yields each line as a string.\n",
    "\n",
    "def read_file_line_by_line(file_path):\n",
    "    with open(file_path, 'r') as file:\n",
    "        for line in file:\n",
    "            yield line.rstrip('\\n')\n",
    "\n",
    "file_path = 'example.txt'\n",
    "\n",
    "for line in read_file_line_by_line(file_path):\n",
    "    print(line)"
   ]
  },
  {
   "cell_type": "code",
   "execution_count": 13,
   "id": "201fcc37-fb41-4c2b-b76f-7cb507f229db",
   "metadata": {},
   "outputs": [
    {
     "name": "stdout",
     "output_type": "stream",
     "text": [
      "[(2, 'a'), (1, 'b'), (3, 'c')]\n"
     ]
    }
   ],
   "source": [
    "# Q8) Use a lambda function in Python to sort a list of tuples based on the second element of each tuple.\n",
    "\n",
    "tuples_list = [(1, 'b'), (2, 'a'), (3, 'c')]\n",
    "sorted_list = sorted(tuples_list, key=lambda x: x[1])\n",
    "print(sorted_list)"
   ]
  },
  {
   "cell_type": "code",
   "execution_count": 14,
   "id": "7b11bdf6-9274-4623-8ff2-6af0f2a05807",
   "metadata": {},
   "outputs": [
    {
     "name": "stdout",
     "output_type": "stream",
     "text": [
      "[32.0, 68.0, 98.6, 212.0]\n"
     ]
    }
   ],
   "source": [
    "# Q9) Write a Python program that uses `map()` to convert a list of temperatures from Celsius to Fahrenheit.\n",
    "\n",
    "def celsius_to_fahrenheit(c):\n",
    "    return (c * 9/5) + 32\n",
    "\n",
    "celsius_temps = [0, 20, 37, 100]\n",
    "fahrenheit_temps = list(map(celsius_to_fahrenheit, celsius_temps))\n",
    "\n",
    "print(fahrenheit_temps)"
   ]
  },
  {
   "cell_type": "code",
   "execution_count": 15,
   "id": "21584f4c-0dfa-4c61-b63a-c462c51c88f1",
   "metadata": {},
   "outputs": [
    {
     "name": "stdout",
     "output_type": "stream",
     "text": [
      "Hll, Wrld!\n"
     ]
    }
   ],
   "source": [
    "# Q10) Create a Python program that uses `filter()` to remove all the vowels from a given string.\n",
    "\n",
    "def remove_vowels(s):\n",
    "    vowels = \"aeiouAEIOU\"\n",
    "    return ''.join(filter(lambda char: char not in vowels, s))\n",
    "\n",
    "input_str = \"Hello, World!\"\n",
    "result = remove_vowels(input_str)\n",
    "print(result)"
   ]
  },
  {
   "cell_type": "code",
   "execution_count": 17,
   "id": "3c685502-3d94-4e15-8f99-2c93d5e08c34",
   "metadata": {},
   "outputs": [
    {
     "name": "stdout",
     "output_type": "stream",
     "text": [
      "Collecting pandas\n",
      "  Downloading pandas-2.2.3-cp313-cp313-win_amd64.whl.metadata (19 kB)\n",
      "Collecting openpyxl\n",
      "  Downloading openpyxl-3.1.5-py2.py3-none-any.whl.metadata (2.5 kB)\n",
      "Collecting numpy>=1.26.0 (from pandas)\n",
      "  Downloading numpy-2.2.6-cp313-cp313-win_amd64.whl.metadata (60 kB)\n",
      "Requirement already satisfied: python-dateutil>=2.8.2 in c:\\users\\admin\\appdata\\local\\programs\\python\\python313\\lib\\site-packages (from pandas) (2.9.0.post0)\n",
      "Collecting pytz>=2020.1 (from pandas)\n",
      "  Downloading pytz-2025.2-py2.py3-none-any.whl.metadata (22 kB)\n",
      "Collecting tzdata>=2022.7 (from pandas)\n",
      "  Downloading tzdata-2025.2-py2.py3-none-any.whl.metadata (1.4 kB)\n",
      "Collecting et-xmlfile (from openpyxl)\n",
      "  Downloading et_xmlfile-2.0.0-py3-none-any.whl.metadata (2.7 kB)\n",
      "Requirement already satisfied: six>=1.5 in c:\\users\\admin\\appdata\\local\\programs\\python\\python313\\lib\\site-packages (from python-dateutil>=2.8.2->pandas) (1.17.0)\n",
      "Downloading pandas-2.2.3-cp313-cp313-win_amd64.whl (11.5 MB)\n",
      "   ---------------------------------------- 0.0/11.5 MB ? eta -:--:--\n",
      "   - -------------------------------------- 0.5/11.5 MB 3.2 MB/s eta 0:00:04\n",
      "   --- ------------------------------------ 1.0/11.5 MB 3.0 MB/s eta 0:00:04\n",
      "   ----- ---------------------------------- 1.6/11.5 MB 3.1 MB/s eta 0:00:04\n",
      "   -------- ------------------------------- 2.4/11.5 MB 3.0 MB/s eta 0:00:04\n",
      "   --------- ------------------------------ 2.6/11.5 MB 3.0 MB/s eta 0:00:03\n",
      "   --------- ------------------------------ 2.6/11.5 MB 3.0 MB/s eta 0:00:03\n",
      "   ---------- ----------------------------- 2.9/11.5 MB 2.0 MB/s eta 0:00:05\n",
      "   ---------- ----------------------------- 2.9/11.5 MB 2.0 MB/s eta 0:00:05\n",
      "   ---------- ----------------------------- 2.9/11.5 MB 2.0 MB/s eta 0:00:05\n",
      "   ---------- ----------------------------- 3.1/11.5 MB 1.6 MB/s eta 0:00:06\n",
      "   ----------- ---------------------------- 3.4/11.5 MB 1.5 MB/s eta 0:00:06\n",
      "   ------------ --------------------------- 3.7/11.5 MB 1.5 MB/s eta 0:00:06\n",
      "   --------------- ------------------------ 4.5/11.5 MB 1.6 MB/s eta 0:00:05\n",
      "   ----------------- ---------------------- 5.0/11.5 MB 1.7 MB/s eta 0:00:04\n",
      "   -------------------- ------------------- 5.8/11.5 MB 1.8 MB/s eta 0:00:04\n",
      "   --------------------- ------------------ 6.3/11.5 MB 1.9 MB/s eta 0:00:03\n",
      "   ----------------------- ---------------- 6.8/11.5 MB 1.9 MB/s eta 0:00:03\n",
      "   ------------------------ --------------- 7.1/11.5 MB 1.9 MB/s eta 0:00:03\n",
      "   -------------------------- ------------- 7.6/11.5 MB 1.9 MB/s eta 0:00:03\n",
      "   ---------------------------- ----------- 8.1/11.5 MB 1.9 MB/s eta 0:00:02\n",
      "   ------------------------------ --------- 8.7/11.5 MB 1.9 MB/s eta 0:00:02\n",
      "   -------------------------------- ------- 9.4/11.5 MB 2.0 MB/s eta 0:00:02\n",
      "   ---------------------------------- ----- 10.0/11.5 MB 2.0 MB/s eta 0:00:01\n",
      "   ------------------------------------ --- 10.5/11.5 MB 2.0 MB/s eta 0:00:01\n",
      "   ------------------------------------- -- 10.7/11.5 MB 2.0 MB/s eta 0:00:01\n",
      "   ---------------------------------------  11.3/11.5 MB 2.0 MB/s eta 0:00:01\n",
      "   ---------------------------------------- 11.5/11.5 MB 2.0 MB/s eta 0:00:00\n",
      "Downloading openpyxl-3.1.5-py2.py3-none-any.whl (250 kB)\n",
      "Downloading numpy-2.2.6-cp313-cp313-win_amd64.whl (12.6 MB)\n",
      "   ---------------------------------------- 0.0/12.6 MB ? eta -:--:--\n",
      "   - -------------------------------------- 0.5/12.6 MB 3.1 MB/s eta 0:00:04\n",
      "   --- ------------------------------------ 1.0/12.6 MB 3.0 MB/s eta 0:00:04\n",
      "   ---- ----------------------------------- 1.6/12.6 MB 2.8 MB/s eta 0:00:04\n",
      "   ------ --------------------------------- 2.1/12.6 MB 2.8 MB/s eta 0:00:04\n",
      "   --------- ------------------------------ 2.9/12.6 MB 2.6 MB/s eta 0:00:04\n",
      "   --------- ------------------------------ 3.1/12.6 MB 2.6 MB/s eta 0:00:04\n",
      "   ----------- ---------------------------- 3.7/12.6 MB 2.5 MB/s eta 0:00:04\n",
      "   ------------- -------------------------- 4.2/12.6 MB 2.4 MB/s eta 0:00:04\n",
      "   --------------- ------------------------ 5.0/12.6 MB 2.5 MB/s eta 0:00:04\n",
      "   ---------------- ----------------------- 5.2/12.6 MB 2.5 MB/s eta 0:00:04\n",
      "   ------------------- -------------------- 6.0/12.6 MB 2.5 MB/s eta 0:00:03\n",
      "   ------------------- -------------------- 6.3/12.6 MB 2.5 MB/s eta 0:00:03\n",
      "   --------------------- ------------------ 6.8/12.6 MB 2.5 MB/s eta 0:00:03\n",
      "   ------------------------ --------------- 7.6/12.6 MB 2.5 MB/s eta 0:00:03\n",
      "   ------------------------- -------------- 8.1/12.6 MB 2.5 MB/s eta 0:00:02\n",
      "   --------------------------- ------------ 8.7/12.6 MB 2.5 MB/s eta 0:00:02\n",
      "   --------------------------- ------------ 8.7/12.6 MB 2.5 MB/s eta 0:00:02\n",
      "   --------------------------- ------------ 8.7/12.6 MB 2.5 MB/s eta 0:00:02\n",
      "   -------------------------------- ------- 10.2/12.6 MB 2.4 MB/s eta 0:00:01\n",
      "   --------------------------------- ------ 10.5/12.6 MB 2.4 MB/s eta 0:00:01\n",
      "   ---------------------------------- ----- 11.0/12.6 MB 2.4 MB/s eta 0:00:01\n",
      "   ----------------------------------- ---- 11.3/12.6 MB 2.4 MB/s eta 0:00:01\n",
      "   ------------------------------------ --- 11.5/12.6 MB 2.3 MB/s eta 0:00:01\n",
      "   ------------------------------------- -- 11.8/12.6 MB 2.3 MB/s eta 0:00:01\n",
      "   ------------------------------------- -- 11.8/12.6 MB 2.3 MB/s eta 0:00:01\n",
      "   ------------------------------------- -- 11.8/12.6 MB 2.3 MB/s eta 0:00:01\n",
      "   -------------------------------------- - 12.1/12.6 MB 2.0 MB/s eta 0:00:01\n",
      "   ---------------------------------------  12.3/12.6 MB 2.0 MB/s eta 0:00:01\n",
      "   ---------------------------------------- 12.6/12.6 MB 2.0 MB/s eta 0:00:00\n",
      "Downloading pytz-2025.2-py2.py3-none-any.whl (509 kB)\n",
      "Downloading tzdata-2025.2-py2.py3-none-any.whl (347 kB)\n",
      "Downloading et_xmlfile-2.0.0-py3-none-any.whl (18 kB)\n",
      "Installing collected packages: pytz, tzdata, numpy, et-xmlfile, pandas, openpyxl\n",
      "Successfully installed et-xmlfile-2.0.0 numpy-2.2.6 openpyxl-3.1.5 pandas-2.2.3 pytz-2025.2 tzdata-2025.2\n"
     ]
    },
    {
     "name": "stderr",
     "output_type": "stream",
     "text": [
      "\n",
      "[notice] A new release of pip is available: 25.0.1 -> 25.1.1\n",
      "[notice] To update, run: python.exe -m pip install --upgrade pip\n"
     ]
    }
   ],
   "source": [
    "!pip install pandas openpyxl"
   ]
  },
  {
   "cell_type": "code",
   "execution_count": 32,
   "id": "5ec48eb5-4978-48c1-8a24-27d89559b3c4",
   "metadata": {},
   "outputs": [
    {
     "name": "stdout",
     "output_type": "stream",
     "text": [
      "   Order Number                 Book Title &  Author  Quantity  Price per Item\n",
      "0         34587           Learning Python, Mark Lutz         4           40.95\n",
      "1         98762        Programming Python, Mark Lutz         5           56.80\n",
      "2         77226        Head First Python, Paul Barry         3           32.95\n",
      "3         88112  Einfuhrung in Python 3, Bernd Klein         3           24.99\n"
     ]
    }
   ],
   "source": [
    "import pandas as pd\n",
    "\n",
    "df = pd.read_excel('C:\\\\Users\\\\admin\\\\Desktop\\\\Data Analytics\\\\Book1.xlsx')\n",
    "print(df.head())"
   ]
  },
  {
   "cell_type": "code",
   "execution_count": 33,
   "id": "44a409db-486b-457a-93cf-676cdc0c363d",
   "metadata": {},
   "outputs": [
    {
     "name": "stdout",
     "output_type": "stream",
     "text": [
      "[(34587, 163.8), (98762, 284.0), (77226, 108.85), (88112, 84.97)]\n"
     ]
    }
   ],
   "source": [
    "# # Q11) Imagine an accounting routine used in a book shop. It works on a list with sublists, which look like above:\n",
    "#        Write a Python program, which returns a list with 2-tuples. Each tuple consists of the order number and the \n",
    "#         product of the price per item and the quantity. The product should be increased by 10,- € if the value of the \n",
    "#         order is smaller than 100,00 €.\n",
    "             \n",
    "orders = [\n",
    "    [34587, \"Learning Python, Mark Lutz\", 4, 40.95],\n",
    "    [98762, \"Programming Python, Mark Lutz\", 5, 56.80],\n",
    "    [77226, \"Head First Python, Paul Barry\", 3, 32.95],\n",
    "    [88112, \"Einfuhrung in Python 3, Bernd Klein\", 3, 24.99]\n",
    "]\n",
    "\n",
    "def compute_order_total(order):\n",
    "    order_number = order[0]\n",
    "    quantity = order[2]\n",
    "    price_per_item = order[3]\n",
    "    total = quantity * price_per_item\n",
    "    if total < 100:\n",
    "        total += 10\n",
    "    return (order_number, round(total, 2))\n",
    "\n",
    "result = [compute_order_total(order) for order in orders]\n",
    "\n",
    "print(result)"
   ]
  },
  {
   "cell_type": "code",
   "execution_count": 34,
   "id": "59ca2f9d-dd40-45dc-ae68-ddb2361fcf6a",
   "metadata": {},
   "outputs": [
    {
     "name": "stdout",
     "output_type": "stream",
     "text": [
      "[(34587, 163.8), (98762, 284.0), (77226, 108.85), (88112, 84.97)]\n"
     ]
    }
   ],
   "source": [
    "# Q12) Write a Python program using lambda and map.\n",
    "\n",
    "orders = [\n",
    "    [34587, \"Learning Python, Mark Lutz\", 4, 40.95],\n",
    "    [98762, \"Programming Python, Mark Lutz\", 5, 56.80],\n",
    "    [77226, \"Head First Python, Paul Barry\", 3, 32.95],\n",
    "    [88112, \"Einfuhrung in Python 3, Bernd Klein\", 3, 24.99]\n",
    "]\n",
    "\n",
    "result = list(map(lambda order: (\n",
    "    order[0],\n",
    "    round(order[2] * order[3] + 10 if order[2] * order[3] < 100 else order[2] * order[3], 2)\n",
    "), orders))\n",
    "\n",
    "print(result)"
   ]
  },
  {
   "cell_type": "code",
   "execution_count": null,
   "id": "08a33fa0-2605-44b9-ace7-b3d2782ffa93",
   "metadata": {},
   "outputs": [],
   "source": []
  }
 ],
 "metadata": {
  "kernelspec": {
   "display_name": "Python 3 (ipykernel)",
   "language": "python",
   "name": "python3"
  },
  "language_info": {
   "codemirror_mode": {
    "name": "ipython",
    "version": 3
   },
   "file_extension": ".py",
   "mimetype": "text/x-python",
   "name": "python",
   "nbconvert_exporter": "python",
   "pygments_lexer": "ipython3",
   "version": "3.13.3"
  }
 },
 "nbformat": 4,
 "nbformat_minor": 5
}
